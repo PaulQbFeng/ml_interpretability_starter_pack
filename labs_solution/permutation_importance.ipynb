{
 "cells": [
  {
   "cell_type": "markdown",
   "metadata": {},
   "source": [
    "## Steps to do for google collab users"
   ]
  },
  {
   "cell_type": "code",
   "execution_count": 1,
   "metadata": {},
   "outputs": [],
   "source": [
    "# nothing"
   ]
  },
  {
   "cell_type": "markdown",
   "metadata": {},
   "source": [
    "# Permutation Importance"
   ]
  },
  {
   "cell_type": "markdown",
   "metadata": {},
   "source": [
    "Let's have a look at **permutation importance**, one of the most effective model-agnostic **global interpretability** technique."
   ]
  },
  {
   "cell_type": "markdown",
   "metadata": {},
   "source": [
    "### Algorithm Description: \n",
    "\n",
    "After your model is trained, the test set can be used for the permutation importance in the following way\n",
    "\n",
    "- If the test set has a score/accuracy of (score_test %), the aim is to calculate the drop in score/accuracy (score_test_corrupted %) when one column is randomly shuffled while the other features are untouched. \n",
    "\n",
    "- The bigger the drop, the more important this feature is. Conversely, the smaller the drop, the less important.\n",
    "\n",
    "- Naturally, all columns are permuted at least once to have a feature importance for each feature. \n",
    "\n",
    "- Finally, to soften the randomised character of the shuffling, the process is repeated N times for each feature.\n",
    "\n",
    "- At the end, each feature has a **mean drop** score with its **standard deviation**. \n",
    "    - Example: Shuffling feature \"height at age 10\" produces an accuracy drop of 0.2 (mean) +/- 0.05 (std). "
   ]
  },
  {
   "cell_type": "markdown",
   "metadata": {},
   "source": [
    "![permutation_improtance](../images/permutation_importance.png)\n",
    "\n",
    "Figure 1: Shuffling of the second columns\n",
    "\n",
    "Source: https://www.kaggle.com/code/dansbecker/permutation-importance\n",
    "\n"
   ]
  },
  {
   "cell_type": "markdown",
   "metadata": {},
   "source": [
    "# Purpose of this notebook"
   ]
  },
  {
   "cell_type": "markdown",
   "metadata": {},
   "source": [
    "- Run your first permutation importance algorithm to get the feature importance of your dataset ! \n",
    "- Get some intuition on how to improve your model"
   ]
  },
  {
   "cell_type": "markdown",
   "metadata": {},
   "source": [
    "Side note: This dataset is a toy dataset easily accessible through scikit learn package and might not represent the complexity of a real dataset (in terms of cleanliness, sample size etc...). However the topic is not too far fetched as it seems, as AXA has more and more activity in **health** !"
   ]
  },
  {
   "cell_type": "markdown",
   "metadata": {},
   "source": [
    "# Case study: Breast Cancer prediction based on cell caracteristics"
   ]
  },
  {
   "cell_type": "markdown",
   "metadata": {},
   "source": [
    "Context: One of the first symptom of breast cancer that most women notice is a lump or an area of thicked tissue in their breast. \n",
    "A biopsy (sample of tissue taken from the body in order to examine it) is often done in this case. The biomass is then being looked at using a microscope for example and a resulting 2D image of the cells can be generated. \n"
   ]
  },
  {
   "cell_type": "markdown",
   "metadata": {},
   "source": [
    "![breast cell nuclei image](../images/cell_nuclei.png)\n",
    "\n",
    "[Source](https://www.researchgate.net/publication/311950799_Analysis_of_the_Wisconsin_Breast_Cancer_Dataset_and_Machine_Learning_for_Breast_Cancer_Detection)\n",
    "\n",
    "**Description**: Magnified images of the cell nuclei used to build this dataset"
   ]
  },
  {
   "cell_type": "markdown",
   "metadata": {},
   "source": [
    "The following dataset is based on the **features of the cell nuclei** that you see in this image. (It's not computer vision yet 😁)\n",
    "\n",
    "10 main features like the radius, the area, the concavity of those cell nuclei are derived from the image. You can find those features in 3 versions with different prefix (mean, error, worst). \n",
    "For example the radius feature can be found as the:\n",
    "- mean_radius -> the mean radius of the N nuclei displayed in the slice\n",
    "- error_radius -> standard error of the mean radius\n",
    "- worst_radius -> mean of the largest 3 nuclei displayed in the slice"
   ]
  },
  {
   "cell_type": "markdown",
   "metadata": {},
   "source": [
    "## Import libraries"
   ]
  },
  {
   "cell_type": "code",
   "execution_count": 3,
   "metadata": {},
   "outputs": [],
   "source": [
    "import numpy as np\n",
    "import pandas as pd\n",
    "import matplotlib.pyplot as plt\n",
    "\n",
    "from sklearn import datasets\n",
    "from sklearn.model_selection import train_test_split"
   ]
  },
  {
   "cell_type": "markdown",
   "metadata": {},
   "source": [
    "## Load breast cancer dataset"
   ]
  },
  {
   "cell_type": "code",
   "execution_count": 4,
   "metadata": {},
   "outputs": [],
   "source": [
    "breast_cancer = datasets.load_breast_cancer()"
   ]
  },
  {
   "cell_type": "code",
   "execution_count": 5,
   "metadata": {
    "scrolled": true
   },
   "outputs": [
    {
     "name": "stdout",
     "output_type": "stream",
     "text": [
      ".. _breast_cancer_dataset:\n",
      "\n",
      "Breast cancer wisconsin (diagnostic) dataset\n",
      "--------------------------------------------\n",
      "\n",
      "**Data Set Characteristics:**\n",
      "\n",
      "    :Number of Instances: 569\n",
      "\n",
      "    :Number of Attributes: 30 numeric, predictive attributes and the class\n",
      "\n",
      "    :Attribute Information:\n",
      "        - radius (mean of distances from center to points on the perimeter)\n",
      "        - texture (standard deviation of gray-scale values)\n",
      "        - perimeter\n",
      "        - area\n",
      "        - smoothness (local variation in radius lengths)\n",
      "        - compactness (perimeter^2 / area - 1.0)\n",
      "        - concavity (severity of concave portions of the contour)\n",
      "        - concave points (number of concave portions of the contour)\n",
      "        - symmetry\n",
      "        - fractal dimension (\"coastline approximation\" - 1)\n",
      "\n",
      "        The mean, standard error, and \"worst\" or largest (mean of the three\n",
      "        worst/largest values) of these features were computed for each image,\n",
      "        resulting in 30 features.  For instance, field 0 is Mean Radius, field\n",
      "        10 is Radius SE, field 20 is Worst Radius.\n",
      "\n",
      "        - class:\n",
      "                - WDBC-Malignant\n",
      "                - WDBC-Benign\n",
      "\n",
      "    :Summary Statistics:\n",
      "\n",
      "    ===================================== ====== ======\n",
      "                                           Min    Max\n",
      "    ===================================== ====== ======\n",
      "    radius (mean):                        6.981  28.11\n",
      "    texture (mean):                       9.71   39.28\n",
      "    perimeter (mean):                     43.79  188.5\n",
      "    area (mean):                          143.5  2501.0\n",
      "    smoothness (mean):                    0.053  0.163\n",
      "    compactness (mean):                   0.019  0.345\n",
      "    concavity (mean):                     0.0    0.427\n",
      "    concave points (mean):                0.0    0.201\n",
      "    symmetry (mean):                      0.106  0.304\n",
      "    fractal dimension (mean):             0.05   0.097\n",
      "    radius (standard error):              0.112  2.873\n",
      "    texture (standard error):             0.36   4.885\n",
      "    perimeter (standard error):           0.757  21.98\n",
      "    area (standard error):                6.802  542.2\n",
      "    smoothness (standard error):          0.002  0.031\n",
      "    compactness (standard error):         0.002  0.135\n",
      "    concavity (standard error):           0.0    0.396\n",
      "    concave points (standard error):      0.0    0.053\n",
      "    symmetry (standard error):            0.008  0.079\n",
      "    fractal dimension (standard error):   0.001  0.03\n",
      "    radius (worst):                       7.93   36.04\n",
      "    texture (worst):                      12.02  49.54\n",
      "    perimeter (worst):                    50.41  251.2\n",
      "    area (worst):                         185.2  4254.0\n",
      "    smoothness (worst):                   0.071  0.223\n",
      "    compactness (worst):                  0.027  1.058\n",
      "    concavity (worst):                    0.0    1.252\n",
      "    concave points (worst):               0.0    0.291\n",
      "    symmetry (worst):                     0.156  0.664\n",
      "    fractal dimension (worst):            0.055  0.208\n",
      "    ===================================== ====== ======\n",
      "\n",
      "    :Missing Attribute Values: None\n",
      "\n",
      "    :Class Distribution: 212 - Malignant, 357 - Benign\n",
      "\n",
      "    :Creator:  Dr. William H. Wolberg, W. Nick Street, Olvi L. Mangasarian\n",
      "\n",
      "    :Donor: Nick Street\n",
      "\n",
      "    :Date: November, 1995\n",
      "\n",
      "This is a copy of UCI ML Breast Cancer Wisconsin (Diagnostic) datasets.\n",
      "https://goo.gl/U2Uwz2\n",
      "\n",
      "Features are computed from a digitized image of a fine needle\n",
      "aspirate (FNA) of a breast mass.  They describe\n",
      "characteristics of the cell nuclei present in the image.\n",
      "\n",
      "Separating plane described above was obtained using\n",
      "Multisurface Method-Tree (MSM-T) [K. P. Bennett, \"Decision Tree\n",
      "Construction Via Linear Programming.\" Proceedings of the 4th\n",
      "Midwest Artificial Intelligence and Cognitive Science Society,\n",
      "pp. 97-101, 1992], a classification method which uses linear\n",
      "programming to construct a decision tree.  Relevant features\n",
      "were selected using an exhaustive search in the space of 1-4\n",
      "features and 1-3 separating planes.\n",
      "\n",
      "The actual linear program used to obtain the separating plane\n",
      "in the 3-dimensional space is that described in:\n",
      "[K. P. Bennett and O. L. Mangasarian: \"Robust Linear\n",
      "Programming Discrimination of Two Linearly Inseparable Sets\",\n",
      "Optimization Methods and Software 1, 1992, 23-34].\n",
      "\n",
      "This database is also available through the UW CS ftp server:\n",
      "\n",
      "ftp ftp.cs.wisc.edu\n",
      "cd math-prog/cpo-dataset/machine-learn/WDBC/\n",
      "\n",
      ".. topic:: References\n",
      "\n",
      "   - W.N. Street, W.H. Wolberg and O.L. Mangasarian. Nuclear feature extraction \n",
      "     for breast tumor diagnosis. IS&T/SPIE 1993 International Symposium on \n",
      "     Electronic Imaging: Science and Technology, volume 1905, pages 861-870,\n",
      "     San Jose, CA, 1993.\n",
      "   - O.L. Mangasarian, W.N. Street and W.H. Wolberg. Breast cancer diagnosis and \n",
      "     prognosis via linear programming. Operations Research, 43(4), pages 570-577, \n",
      "     July-August 1995.\n",
      "   - W.H. Wolberg, W.N. Street, and O.L. Mangasarian. Machine learning techniques\n",
      "     to diagnose breast cancer from fine-needle aspirates. Cancer Letters 77 (1994) \n",
      "     163-171.\n"
     ]
    }
   ],
   "source": [
    "# description of the dataset\n",
    "print(breast_cancer.DESCR)"
   ]
  },
  {
   "cell_type": "markdown",
   "metadata": {},
   "source": [
    "## Train a ML model on this dataset to predict breast cancer"
   ]
  },
  {
   "cell_type": "markdown",
   "metadata": {},
   "source": [
    "### Split dataset\n",
    "The data set of N=569 is split into a training set (70%) and test set (30%)"
   ]
  },
  {
   "cell_type": "code",
   "execution_count": 6,
   "metadata": {},
   "outputs": [],
   "source": [
    "# Train set 70%, Test set 30 %\n",
    "test_size = 0.3 \n",
    "X, y = breast_cancer.data, breast_cancer.target\n",
    "X_train, X_test, y_train, y_test = train_test_split(X,y, test_size=test_size, random_state=2)"
   ]
  },
  {
   "cell_type": "markdown",
   "metadata": {},
   "source": [
    "### Training\n",
    "The model selected (arbitrarily) is the random forest"
   ]
  },
  {
   "cell_type": "code",
   "execution_count": 7,
   "metadata": {},
   "outputs": [],
   "source": [
    "from sklearn import ensemble"
   ]
  },
  {
   "cell_type": "code",
   "execution_count": 8,
   "metadata": {},
   "outputs": [],
   "source": [
    "model = ensemble.RandomForestClassifier(max_depth=5, random_state=2)\n",
    "model = model.fit(X_train, y_train)\n",
    "pred = model.predict(X_test)"
   ]
  },
  {
   "cell_type": "code",
   "execution_count": 9,
   "metadata": {},
   "outputs": [
    {
     "name": "stdout",
     "output_type": "stream",
     "text": [
      "Accuracy Tree model is of 0.96, N_test=171\n"
     ]
    }
   ],
   "source": [
    "# prediction on test set \n",
    "accuracy = round(model.score(X_test, y_test), 2)\n",
    "print(f\"Accuracy Tree model is of {accuracy}, N_test={len(y_test)}\")"
   ]
  },
  {
   "cell_type": "markdown",
   "metadata": {},
   "source": [
    "## Comments "
   ]
  },
  {
   "cell_type": "markdown",
   "metadata": {},
   "source": [
    "The accuracy on the test set seems to be very good (96%). We are satisfied with the model performance."
   ]
  },
  {
   "cell_type": "markdown",
   "metadata": {},
   "source": [
    "Now..."
   ]
  },
  {
   "cell_type": "markdown",
   "metadata": {},
   "source": [
    "![image](../images/to_spam.png)"
   ]
  },
  {
   "cell_type": "markdown",
   "metadata": {},
   "source": [
    "## Run the permutation importance algorithm "
   ]
  },
  {
   "cell_type": "markdown",
   "metadata": {},
   "source": [
    "Now that the trained ML model is performant, we can make some predictions on the test set while **permutating** the features. \n",
    "\n",
    "The more the accuracy drop for a feature permuted, the more important this feature is ! \n",
    " \n",
    "As usual, to avoid overfitting issues, the permutation importance algorithm is performed on the **test set** (N=171). "
   ]
  },
  {
   "cell_type": "code",
   "execution_count": 13,
   "metadata": {},
   "outputs": [],
   "source": [
    "from sklearn.inspection import permutation_importance"
   ]
  },
  {
   "cell_type": "code",
   "execution_count": 14,
   "metadata": {},
   "outputs": [
    {
     "name": "stdout",
     "output_type": "stream",
     "text": [
      "CPU times: user 8.08 s, sys: 123 ms, total: 8.21 s\n",
      "Wall time: 8.24 s\n"
     ]
    }
   ],
   "source": [
    "%%time \n",
    "result = permutation_importance(\n",
    "    model, \n",
    "    X_test, \n",
    "    y_test, \n",
    "    n_repeats=30, \n",
    "    random_state=2\n",
    ")\n",
    "# The score is calculated using the defalut scorer of the estimator. In this case it's the mean accuracy.\n",
    "# n_repeats is the number of time each feature is shuffled"
   ]
  },
  {
   "cell_type": "markdown",
   "metadata": {},
   "source": [
    "### Display feature importance distribution"
   ]
  },
  {
   "cell_type": "code",
   "execution_count": 15,
   "metadata": {},
   "outputs": [
    {
     "data": {
      "image/png": "[encoded data removed]",
      "text/plain": [
       "<Figure size 864x576 with 1 Axes>"
      ]
     },
     "metadata": {
      "needs_background": "light"
     },
     "output_type": "display_data"
    }
   ],
   "source": [
    "sorted_importances_idx = result.importances_mean.argsort()\n",
    "columns = [breast_cancer.feature_names[i] for i in sorted_importances_idx]\n",
    "\n",
    "importances = pd.DataFrame(\n",
    "    result.importances[sorted_importances_idx].T,\n",
    "    columns=columns,\n",
    ")\n",
    "importances.plot.box(vert=False, whis=10, figsize=(12, 8))\n",
    "plt.title(\"Permutation Importances (test set)\")\n",
    "plt.axvline(x=0, color=\"k\", linestyle=\"--\")\n",
    "plt.xlabel(\"Figure 2: Decrease in accuracy score based on the feature shuffled. (0 < accuracy < 1)\")\n",
    "plt.tight_layout()"
   ]
  },
  {
   "cell_type": "markdown",
   "metadata": {},
   "source": [
    "### All feature importances sorted from best to worst (according to mean drop of accuracy)"
   ]
  },
  {
   "cell_type": "code",
   "execution_count": 17,
   "metadata": {
    "scrolled": true
   },
   "outputs": [
    {
     "name": "stdout",
     "output_type": "stream",
     "text": [
      "worst radius 0.018  +/- 0.008\n",
      "worst area 0.007  +/- 0.007\n",
      "worst concave points 0.006  +/- 0.007\n",
      "mean area 0.005  +/- 0.001\n",
      "worst texture 0.005  +/- 0.003\n",
      "worst symmetry 0.005  +/- 0.003\n",
      "texture error 0.005  +/- 0.002\n",
      "compactness error 0.004  +/- 0.002\n",
      "mean texture 0.004  +/- 0.003\n",
      "area error 0.004  +/- 0.003\n",
      "mean fractal dimension 0.003  +/- 0.003\n",
      "worst fractal dimension 0.003  +/- 0.003\n",
      "mean concave points 0.002  +/- 0.006\n",
      "mean perimeter 0.002  +/- 0.003\n",
      "mean radius 0.002  +/- 0.003\n",
      "worst smoothness 0.002  +/- 0.003\n",
      "worst perimeter 0.002  +/- 0.005\n",
      "radius error 0.002  +/- 0.003\n",
      "symmetry error 0.001  +/- 0.002\n",
      "worst compactness 0.001  +/- 0.002\n",
      "concave points error 0.001  +/- 0.002\n",
      "worst concavity 0.000  +/- 0.001\n",
      "concavity error 0.000  +/- 0.000\n",
      "perimeter error 0.000  +/- 0.000\n",
      "fractal dimension error 0.000  +/- 0.000\n",
      "mean symmetry 0.000  +/- 0.000\n",
      "mean compactness 0.000  +/- 0.000\n",
      "mean smoothness 0.000  +/- 0.000\n",
      "smoothness error 0.000  +/- 0.000\n",
      "mean concavity -0.003  +/- 0.003\n"
     ]
    }
   ],
   "source": [
    "for i in result.importances_mean.argsort()[::-1]:\n",
    "    print(f\"{breast_cancer.feature_names[i]:<8} \"\n",
    "          f\"{result.importances_mean[i]:.3f} \"\n",
    "          f\" +/- {result.importances_std[i]:.3f}\")"
   ]
  },
  {
   "cell_type": "markdown",
   "metadata": {},
   "source": [
    "Some observations: \n",
    "- By shuffling the feature \"worst radius\" n_repeats times, the mean drop in accuracy is 0.017 (1.7 %) with a standard deviation of 0.008 (0.8%). According to the list, it **seems** to be the most important feature of all.\n",
    "- By shuffling the feature \"mean concativity\" n_repeats times, the mean drop in accuracy is actually -0.003 (-0.3%) with a standard deviation of 0.003 (0.3%). Surprisingly there is actually a gain in accuracy when shuffling this feature. it **seems** that this feature does not contribute postively to the accuracy of the model.\n",
    "- Other features at the bottom of the list such as \"smoothness error\", \"mean smoothness\", \"mean compactness\" etc with a mean drop of 0% and a standard deviation of 0% also suggest that those features don't matter in the eyes of the model."
   ]
  },
  {
   "cell_type": "markdown",
   "metadata": {},
   "source": [
    "### Filter out features that have a mean drop that is too volatile "
   ]
  },
  {
   "cell_type": "markdown",
   "metadata": {},
   "source": [
    "Often times, we trust more the features whose mean drop in accuracy are at laest greater than 2 times their standard deviation. Those are the features that consistently see a positive drop in accuracy regardless of the shuffling random state."
   ]
  },
  {
   "cell_type": "code",
   "execution_count": 19,
   "metadata": {},
   "outputs": [
    {
     "name": "stdout",
     "output_type": "stream",
     "text": [
      "worst radius 0.018  +/- 0.008\n",
      "mean area 0.005  +/- 0.001\n",
      "texture error 0.005  +/- 0.002\n"
     ]
    }
   ],
   "source": [
    "for i in result.importances_mean.argsort()[::-1]:\n",
    "    if result.importances_mean[i] - 2 * result.importances_std[i] > 0:\n",
    "        print(f\"{breast_cancer.feature_names[i]:<8} \"\n",
    "              f\"{result.importances_mean[i]:.3f} \"\n",
    "              f\" +/- {result.importances_std[i]:.3f}\")"
   ]
  },
  {
   "cell_type": "markdown",
   "metadata": {},
   "source": [
    "## Human interpretation of the result - and Challenge with expert"
   ]
  },
  {
   "cell_type": "markdown",
   "metadata": {},
   "source": [
    "As a data scientist, I have no background in cancerous cell analysis. \n",
    "But from the following observations derived from a global interpretation of the model with permutation importance: \n",
    "- The worst prefix is seen for the 5 out of the 6 top important features (as shown in figure 1)\n",
    "- The top 2 important features are worst radius and worst area  \n",
    "- Some features have a 0 % point drop and even positive gain from shuffling.\n",
    "\n",
    "We could make following assumptions:\n",
    "\n",
    "**Assumption 1**\n",
    "\n",
    "- that cancerous cell nuclei are larger than healthy ones. In each slice of cells represented in the images such as image 1, cancerous cells might not represent the majority of the cell displayed, that's why the feature with the worst prefix might make a lot of sense.\n",
    "\n",
    "**Assumption 2**\n",
    "- Some features could be removed because they negatively impact our model or have no positive contribution. In a 30 feature dataset it might not be really important but for a larger number of features, discarding a certain amount is always helpful to reduce memory issues and improve performances. Some minor features can bring bias, be harmful to the model.\n",
    "\n",
    "**Assumption 3**\n",
    "- Drop in accuracy for all features is rather low. Does it mean the feature are correlated ?\n",
    "\n",
    "Next step: I would contact an expert in this domain and present my model and my take away from the interpretability inspection. \n",
    "\n",
    "- If the expert **confirms the assumption** that I made, **I can have more confidence in my model while also gaining his/her trust.**\n",
    "\n",
    "- If the expert **does not validate** those assumptions, **my model could be accurate but for the different reasons** Therefore, I need to take a step back to re-analyze each part of the model (from feature selection, engineering to the model training).** \n",
    "\n",
    "**This is exactly the type of behaviour that we should adopt between data scientists and suject expert matters / stakeolders / agents at AXA !** \n",
    "\n",
    "\n"
   ]
  },
  {
   "cell_type": "markdown",
   "metadata": {},
   "source": [
    "## Conclusion"
   ]
  },
  {
   "cell_type": "markdown",
   "metadata": {},
   "source": [
    "By applying the permutation importance method, \n",
    "- you gain insights on the data set as it encourages you to understand each feature\n",
    "- it gives you an understanding of the feature importance of the model which you can test against your own understanding of the problem. And challenge it with a specialist."
   ]
  }
 ],
 "metadata": {
  "kernelspec": {
   "display_name": "Python [conda env:interpretability]",
   "language": "python",
   "name": "conda-env-interpretability-py"
  },
  "language_info": {
   "codemirror_mode": {
    "name": "ipython",
    "version": 3
   },
   "file_extension": ".py",
   "mimetype": "text/x-python",
   "name": "python",
   "nbconvert_exporter": "python",
   "pygments_lexer": "ipython3",
   "version": "3.9.7"
  },
  "toc": {
   "base_numbering": 1,
   "nav_menu": {},
   "number_sections": true,
   "sideBar": true,
   "skip_h1_title": false,
   "title_cell": "Table of Contents",
   "title_sidebar": "Contents",
   "toc_cell": false,
   "toc_position": {
    "height": "calc(100% - 180px)",
    "left": "10px",
    "top": "150px",
    "width": "165px"
   },
   "toc_section_display": true,
   "toc_window_display": true
  }
 },
 "nbformat": 4,
 "nbformat_minor": 4
}

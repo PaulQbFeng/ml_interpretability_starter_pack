{
 "cells": [
  {
   "cell_type": "markdown",
   "id": "c4f74697",
   "metadata": {},
   "source": [
    "## Steps to do for google collab users"
   ]
  },
  {
   "cell_type": "code",
   "execution_count": 94,
   "id": "4663dabe",
   "metadata": {},
   "outputs": [],
   "source": [
    "# nothing"
   ]
  },
  {
   "cell_type": "markdown",
   "id": "230088d7",
   "metadata": {},
   "source": [
    "# Introduction"
   ]
  },
  {
   "cell_type": "markdown",
   "id": "0ed804ed",
   "metadata": {},
   "source": [
    "Context: Train a decision tree to classify Iris sub species base on their sepal and petal characteristics"
   ]
  },
  {
   "cell_type": "markdown",
   "id": "06adeb20",
   "metadata": {},
   "source": [
    "## Goal"
   ]
  },
  {
   "cell_type": "markdown",
   "id": "315aab4e",
   "metadata": {},
   "source": [
    "- Understand and visualize the rules learned by a decision tree\n",
    "- Derive some rule based algorithms using decision trees"
   ]
  },
  {
   "cell_type": "code",
   "execution_count": 39,
   "id": "b2598d29",
   "metadata": {},
   "outputs": [],
   "source": [
    "import numpy as np\n",
    "import pandas as pd\n",
    "import matplotlib.pyplot as plt\n",
    "\n",
    "from sklearn import datasets, tree\n",
    "from sklearn.model_selection import train_test_split"
   ]
  },
  {
   "cell_type": "markdown",
   "id": "14beb091",
   "metadata": {},
   "source": [
    "# Decision Tree "
   ]
  },
  {
   "cell_type": "markdown",
   "id": "460fb792",
   "metadata": {},
   "source": [
    "### Load Iris Dataset"
   ]
  },
  {
   "cell_type": "code",
   "execution_count": 40,
   "id": "e6119edb",
   "metadata": {},
   "outputs": [],
   "source": [
    "iris = datasets.load_iris()"
   ]
  },
  {
   "cell_type": "markdown",
   "id": "a948ad5a",
   "metadata": {},
   "source": [
    "![iris dataset](../images/iris-machinelearning.png)\n",
    "\n",
    "**Description**: Images of the 3 iris classes (class 2 - 1 - 3)"
   ]
  },
  {
   "cell_type": "code",
   "execution_count": 42,
   "id": "979e28ba",
   "metadata": {},
   "outputs": [
    {
     "name": "stdout",
     "output_type": "stream",
     "text": [
      ".. _iris_dataset:\n",
      "\n",
      "Iris plants dataset\n",
      "--------------------\n",
      "\n",
      "**Data Set Characteristics:**\n",
      "\n",
      "    :Number of Instances: 150 (50 in each of three classes)\n",
      "    :Number of Attributes: 4 numeric, predictive attributes and the class\n",
      "    :Attribute Information:\n",
      "        - sepal length in cm\n",
      "        - sepal width in cm\n",
      "        - petal length in cm\n",
      "        - petal width in cm\n",
      "        - class:\n",
      "                - Iris-Setosa\n",
      "                - Iris-Versicolour\n",
      "                - Iris-Virginica\n",
      "                \n",
      "    :Summary Statistics:\n",
      "\n",
      "    ============== ==== ==== ======= ===== ====================\n",
      "                    Min  Max   Mean    SD   Class Correlation\n",
      "    ============== ==== ==== ======= ===== ====================\n",
      "    sepal length:   4.3  7.9   5.84   0.83    0.7826\n",
      "    sepal width:    2.0  4.4   3.05   0.43   -0.4194\n",
      "    petal length:   1.0  6.9   3.76   1.76    0.9490  (high!)\n",
      "    petal width:    0.1  2.5   1.20   0.76    0.9565  (high!)\n",
      "    ============== ==== ==== ======= ===== ===========\n"
     ]
    }
   ],
   "source": [
    "print(iris.DESCR[:1000])"
   ]
  },
  {
   "cell_type": "markdown",
   "id": "c082cdd5",
   "metadata": {},
   "source": [
    "### Split dataset into train test\n"
   ]
  },
  {
   "cell_type": "code",
   "execution_count": 18,
   "id": "2f95d6e3",
   "metadata": {},
   "outputs": [],
   "source": [
    "test_size = 0.3\n",
    "X, y = iris.data, iris.target\n",
    "X_train, X_test, y_train, y_test = train_test_split(X,y, test_size=test_size, random_state=2)"
   ]
  },
  {
   "cell_type": "markdown",
   "id": "0bc7f08f",
   "metadata": {},
   "source": [
    "### Training"
   ]
  },
  {
   "cell_type": "code",
   "execution_count": 19,
   "id": "24d219b3",
   "metadata": {},
   "outputs": [],
   "source": [
    "clf = tree.DecisionTreeClassifier(max_depth=3, random_state=2)\n",
    "clf = clf.fit(X_train, y_train)"
   ]
  },
  {
   "cell_type": "code",
   "execution_count": 46,
   "id": "588fc592",
   "metadata": {},
   "outputs": [],
   "source": [
    "pred = clf.predict(X_test)"
   ]
  },
  {
   "cell_type": "code",
   "execution_count": 47,
   "id": "1924ccb6",
   "metadata": {},
   "outputs": [
    {
     "name": "stdout",
     "output_type": "stream",
     "text": [
      "Accuracy Tree model is of 0.98, N_test=45\n"
     ]
    }
   ],
   "source": [
    "# prediction on test set \n",
    "accuracy = round((pred == y_test).sum()/len(y_test), 2)\n",
    "print(f\"Accuracy Tree model is of {accuracy}, N_test={len(y_test)}\")"
   ]
  },
  {
   "cell_type": "code",
   "execution_count": 48,
   "id": "46a329d3",
   "metadata": {},
   "outputs": [],
   "source": [
    "from sklearn.metrics import confusion_matrix"
   ]
  },
  {
   "cell_type": "code",
   "execution_count": 49,
   "id": "8e4071fd",
   "metadata": {},
   "outputs": [
    {
     "name": "stdout",
     "output_type": "stream",
     "text": [
      "Confusion matrix \n",
      " [[17  0  0]\n",
      " [ 0 14  1]\n",
      " [ 0  0 13]]\n"
     ]
    }
   ],
   "source": [
    "cm = confusion_matrix(y_test, pred)\n",
    "print(\"Confusion matrix \\n\", cm)"
   ]
  },
  {
   "cell_type": "markdown",
   "id": "36a35a33",
   "metadata": {},
   "source": [
    "### Plot rules of decision tree"
   ]
  },
  {
   "cell_type": "code",
   "execution_count": 50,
   "id": "58724422",
   "metadata": {},
   "outputs": [
    {
     "name": "stdout",
     "output_type": "stream",
     "text": [
      "|--- petal width (cm) <= 0.80\n",
      "|   |--- class: 0\n",
      "|--- petal width (cm) >  0.80\n",
      "|   |--- petal width (cm) <= 1.65\n",
      "|   |   |--- petal length (cm) <= 4.95\n",
      "|   |   |   |--- class: 1\n",
      "|   |   |--- petal length (cm) >  4.95\n",
      "|   |   |   |--- class: 2\n",
      "|   |--- petal width (cm) >  1.65\n",
      "|   |   |--- petal length (cm) <= 4.85\n",
      "|   |   |   |--- class: 2\n",
      "|   |   |--- petal length (cm) >  4.85\n",
      "|   |   |   |--- class: 2\n",
      "\n"
     ]
    }
   ],
   "source": [
    "print(tree.export_text(clf, feature_names=iris['feature_names']))"
   ]
  },
  {
   "cell_type": "markdown",
   "id": "9ebf2f11",
   "metadata": {},
   "source": [
    "### Plot the tree"
   ]
  },
  {
   "cell_type": "code",
   "execution_count": 25,
   "id": "502ff110",
   "metadata": {},
   "outputs": [
    {
     "data": {
      "image/png": "[encoded data removed]",
      "text/plain": [
       "<Figure size 1152x648 with 1 Axes>"
      ]
     },
     "metadata": {
      "needs_background": "light"
     },
     "output_type": "display_data"
    }
   ],
   "source": [
    "plt.figure(figsize=(16,9))\n",
    "tree.plot_tree(clf, feature_names=iris['feature_names'], class_names=iris[\"target_names\"])\n",
    "plt.show()"
   ]
  },
  {
   "cell_type": "markdown",
   "id": "f2d4a973",
   "metadata": {},
   "source": [
    "### Questions \n",
    "1. Is my decision tree suited for the task ?\n",
    "    - yes precision and recall are excellent\n",
    "2. Can I explore the reasons behind a prediciton ?\n",
    "    - yes by looking inside the tree, we understand each condition that led to the final classification.\n",
    "    - but what if the tree was very deep, or the number of variables very high ?\n",
    "3. How would you rank the 4 features in terms of importance to predict the iris category ?\n",
    "    - From this model, it looks like petal width > petal length > sepal info\n",
    "    - but what if the features are correlated ?\n"
   ]
  },
  {
   "cell_type": "markdown",
   "id": "73708af0",
   "metadata": {},
   "source": [
    "### Conclusion"
   ]
  },
  {
   "cell_type": "markdown",
   "id": "4c428be2",
   "metadata": {},
   "source": [
    "- With simple methods in scikit learn, you can inspect the inside of tree and understand which are the rules that lead to what decisions."
   ]
  },
  {
   "cell_type": "markdown",
   "id": "7fc8b49f",
   "metadata": {},
   "source": [
    "#### What do my predictions look like with a basic tree "
   ]
  },
  {
   "cell_type": "code",
   "execution_count": 26,
   "id": "7ea75c60",
   "metadata": {},
   "outputs": [
    {
     "data": {
      "text/plain": [
       "array([0, 0, 2, 0, 0, 2, 0, 2, 2, 0, 0, 0, 0, 0, 1, 1, 0, 1, 2, 1, 2, 1,\n",
       "       2, 1, 1, 0, 0, 2, 0, 2, 2, 0, 1, 2, 1, 0, 2, 1, 1, 2, 1, 1, 2, 1,\n",
       "       0])"
      ]
     },
     "execution_count": 26,
     "metadata": {},
     "output_type": "execute_result"
    }
   ],
   "source": [
    "pred # N=45"
   ]
  },
  {
   "cell_type": "markdown",
   "id": "8905248c",
   "metadata": {},
   "source": [
    "# Rule based algorithm"
   ]
  },
  {
   "cell_type": "markdown",
   "id": "bc35d89f",
   "metadata": {},
   "source": [
    "Rule based algorithm can be created in 2 ways. \n",
    "- either you have some knowledge and intuition about the rules (either by common sense or Suject matter expert guidance). example: Fraud detection, offensive language detection\n",
    "- you don't know anything about the rules"
   ]
  },
  {
   "cell_type": "markdown",
   "id": "8557e23a",
   "metadata": {},
   "source": [
    "### Create rules from knowledge and expertise (TBD)"
   ]
  },
  {
   "cell_type": "markdown",
   "id": "613e8ef8",
   "metadata": {},
   "source": [
    "(Assumptions: Rules are made by an unbiased expert)\n",
    "- Can serve as a baseline algorithm\n",
    "- Are 100% explainable "
   ]
  },
  {
   "cell_type": "markdown",
   "id": "43dcbf1a",
   "metadata": {},
   "source": [
    "----"
   ]
  },
  {
   "cell_type": "markdown",
   "id": "8c2c85ce",
   "metadata": {},
   "source": [
    "### Derive some rules from a ML model (Tree)"
   ]
  },
  {
   "cell_type": "markdown",
   "id": "7a84193a",
   "metadata": {},
   "source": [
    "Reasons to do this: \n",
    "- I have no prior knowledge of the relationship between sepal and petal length and iris type.  \n",
    "    - But I would like to provide some explanations (be it right or wrong) on top of the prediction\n",
    "- I must come up with a solution in production without a machine learning model\n",
    "\n"
   ]
  },
  {
   "cell_type": "code",
   "execution_count": 95,
   "id": "c55c1080",
   "metadata": {},
   "outputs": [],
   "source": [
    "def rule_based_iris_classifier(petal_width, petal_length):\n",
    "    \"\"\"\n",
    "    param: \n",
    "        - petal_width: float\n",
    "        - petal_lenght: float\n",
    "    return:\n",
    "        - class of iris (0, 1 or 2)\n",
    "        - explanation (small text that explains why this choice was made)\n",
    "    \"\"\"\n",
    "    if petal_width <= 0.8:\n",
    "        return 0, \"Petal width small\"\n",
    "    if petal_width <= 1.65:\n",
    "        if petal_length <= 4.95:\n",
    "            return 1, \"Petal width medium and petal length small\"\n",
    "        if petal_length > 4.95:\n",
    "            return 2, \"Petal width medium and petal length high\"\n",
    "\n",
    "    return 2, \"Petal width high\""
   ]
  },
  {
   "cell_type": "markdown",
   "id": "b4b60e7f",
   "metadata": {},
   "source": [
    "### Make predictions using the rule based algorithm"
   ]
  },
  {
   "cell_type": "code",
   "execution_count": 96,
   "id": "f2e625f5",
   "metadata": {},
   "outputs": [],
   "source": [
    "rulebased_pred = []\n",
    "explanations = []\n",
    "for petal_length, petal_width in X_test[:,2:]:\n",
    "    prediction, explanation = rule_based_iris_classifier(petal_width, petal_length)\n",
    "    rulebased_pred.append(prediction)\n",
    "    explanations.append(explanation)\n",
    "\n",
    "rulebased_pred = np.array(rulebased_pred)"
   ]
  },
  {
   "cell_type": "code",
   "execution_count": 98,
   "id": "0f8986b8",
   "metadata": {},
   "outputs": [
    {
     "name": "stdout",
     "output_type": "stream",
     "text": [
      "Rule based method behaves like the trained tree\n"
     ]
    }
   ],
   "source": [
    "if np.array_equal(rulebased_pred, pred):\n",
    "    print(\"Rule based method behaves like the trained tree\")\n",
    "else:\n",
    "    print(\"Predictions from rule based and trained tree are different\")"
   ]
  },
  {
   "cell_type": "code",
   "execution_count": 89,
   "id": "5e88767d",
   "metadata": {},
   "outputs": [
    {
     "name": "stdout",
     "output_type": "stream",
     "text": [
      "Accuracy rule based model is of 0.98, N_test=45\n"
     ]
    }
   ],
   "source": [
    "# prediction on test set \n",
    "accuracy = round((rb_pred == y_test).sum()/len(y_test), 2)\n",
    "print(f\"Accuracy rule based model is of {accuracy}, N_test={len(y_test)}\")"
   ]
  },
  {
   "cell_type": "markdown",
   "id": "830eb437",
   "metadata": {},
   "source": [
    "#### rule based predictions  with explanations"
   ]
  },
  {
   "cell_type": "code",
   "execution_count": 91,
   "id": "2517ac39",
   "metadata": {
    "scrolled": true
   },
   "outputs": [
    {
     "data": {
      "text/plain": [
       "[(0, 'Petal width small'),\n",
       " (0, 'Petal width small'),\n",
       " (2, 'Petal width high'),\n",
       " (0, 'Petal width small'),\n",
       " (0, 'Petal width small'),\n",
       " (2, 'Petal width medium and petal length high'),\n",
       " (0, 'Petal width small'),\n",
       " (2, 'Petal width high'),\n",
       " (2, 'Petal width high'),\n",
       " (0, 'Petal width small'),\n",
       " (0, 'Petal width small'),\n",
       " (0, 'Petal width small'),\n",
       " (0, 'Petal width small'),\n",
       " (0, 'Petal width small'),\n",
       " (1, 'Petal width medium and petal length small'),\n",
       " (1, 'Petal width medium and petal length small'),\n",
       " (0, 'Petal width small'),\n",
       " (1, 'Petal width medium and petal length small'),\n",
       " (2, 'Petal width high'),\n",
       " (1, 'Petal width medium and petal length small'),\n",
       " (2, 'Petal width high'),\n",
       " (1, 'Petal width medium and petal length small'),\n",
       " (2, 'Petal width high'),\n",
       " (1, 'Petal width medium and petal length small'),\n",
       " (1, 'Petal width medium and petal length small'),\n",
       " (0, 'Petal width small'),\n",
       " (0, 'Petal width small'),\n",
       " (2, 'Petal width high'),\n",
       " (0, 'Petal width small'),\n",
       " (2, 'Petal width high'),\n",
       " (2, 'Petal width high'),\n",
       " (0, 'Petal width small'),\n",
       " (1, 'Petal width medium and petal length small'),\n",
       " (2, 'Petal width high'),\n",
       " (1, 'Petal width medium and petal length small'),\n",
       " (0, 'Petal width small'),\n",
       " (2, 'Petal width high'),\n",
       " (1, 'Petal width medium and petal length small'),\n",
       " (1, 'Petal width medium and petal length small'),\n",
       " (2, 'Petal width high'),\n",
       " (1, 'Petal width medium and petal length small'),\n",
       " (1, 'Petal width medium and petal length small'),\n",
       " (2, 'Petal width high'),\n",
       " (1, 'Petal width medium and petal length small'),\n",
       " (0, 'Petal width small')]"
      ]
     },
     "execution_count": 91,
     "metadata": {},
     "output_type": "execute_result"
    }
   ],
   "source": [
    "[(rb_pred[i], explanations[i]) for i in range(len(rb_pred))]"
   ]
  },
  {
   "cell_type": "markdown",
   "id": "3065d8be",
   "metadata": {},
   "source": [
    "## Conclusion"
   ]
  },
  {
   "cell_type": "markdown",
   "id": "87d557f4",
   "metadata": {},
   "source": [
    "- By looking at the rules of a tree, we can verify that the rules make sense, or learn more about the topic\n",
    "- Those rules can help us build a normal rule based algorithms "
   ]
  }
 ],
 "metadata": {
  "kernelspec": {
   "display_name": "Python [conda env:interpretability]",
   "language": "python",
   "name": "conda-env-interpretability-py"
  },
  "language_info": {
   "codemirror_mode": {
    "name": "ipython",
    "version": 3
   },
   "file_extension": ".py",
   "mimetype": "text/x-python",
   "name": "python",
   "nbconvert_exporter": "python",
   "pygments_lexer": "ipython3",
   "version": "3.9.7"
  },
  "toc": {
   "base_numbering": 1,
   "nav_menu": {},
   "number_sections": true,
   "sideBar": true,
   "skip_h1_title": false,
   "title_cell": "Table of Contents",
   "title_sidebar": "Contents",
   "toc_cell": false,
   "toc_position": {
    "height": "calc(100% - 180px)",
    "left": "10px",
    "top": "150px",
    "width": "291.073364px"
   },
   "toc_section_display": true,
   "toc_window_display": true
  }
 },
 "nbformat": 4,
 "nbformat_minor": 5
}

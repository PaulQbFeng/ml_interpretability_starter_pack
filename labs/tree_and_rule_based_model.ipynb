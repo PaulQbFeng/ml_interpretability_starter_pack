{
 "cells": [
  {
   "cell_type": "markdown",
   "id": "608e55ff",
   "metadata": {},
   "source": [
    "## Steps to do for google collab users"
   ]
  },
  {
   "cell_type": "code",
   "execution_count": 1,
   "id": "dd5db69d",
   "metadata": {},
   "outputs": [],
   "source": [
    "# nothing"
   ]
  },
  {
   "cell_type": "markdown",
   "id": "5786c83c",
   "metadata": {},
   "source": [
    "# Introduction"
   ]
  },
  {
   "cell_type": "markdown",
   "id": "b24c1559",
   "metadata": {},
   "source": [
    "Context: Train a decision tree to classify Iris sub species base on their sepal and petal characteristics"
   ]
  },
  {
   "cell_type": "markdown",
   "id": "41b6e88e",
   "metadata": {},
   "source": [
    "## Goal"
   ]
  },
  {
   "cell_type": "markdown",
   "id": "da1736c0",
   "metadata": {},
   "source": [
    "- Understand and visualize the rules learned by a decision tree\n",
    "- Derive some rule based algorithms using decision trees"
   ]
  },
  {
   "cell_type": "code",
   "execution_count": 2,
   "id": "b2598d29",
   "metadata": {},
   "outputs": [],
   "source": [
    "import numpy as np\n",
    "import pandas as pd\n",
    "import matplotlib.pyplot as plt\n",
    "\n",
    "from sklearn import datasets, tree\n",
    "from sklearn.model_selection import train_test_split"
   ]
  },
  {
   "cell_type": "markdown",
   "id": "14beb091",
   "metadata": {},
   "source": [
    "# Decision Tree "
   ]
  },
  {
   "cell_type": "markdown",
   "id": "460fb792",
   "metadata": {},
   "source": [
    "### Load Iris Dataset"
   ]
  },
  {
   "cell_type": "code",
   "execution_count": 3,
   "id": "e6119edb",
   "metadata": {},
   "outputs": [],
   "source": [
    "iris = datasets.load_iris()"
   ]
  },
  {
   "cell_type": "markdown",
   "id": "a948ad5a",
   "metadata": {},
   "source": [
    "![iris dataset](../images/iris-machinelearning.png)\n",
    "\n",
    "**Description**: Images of the 3 iris classes (class 2 - 1 - 3)"
   ]
  },
  {
   "cell_type": "code",
   "execution_count": 4,
   "id": "979e28ba",
   "metadata": {},
   "outputs": [
    {
     "name": "stdout",
     "output_type": "stream",
     "text": [
      ".. _iris_dataset:\n",
      "\n",
      "Iris plants dataset\n",
      "--------------------\n",
      "\n",
      "**Data Set Characteristics:**\n",
      "\n",
      "    :Number of Instances: 150 (50 in each of three classes)\n",
      "    :Number of Attributes: 4 numeric, predictive attributes and the class\n",
      "    :Attribute Information:\n",
      "        - sepal length in cm\n",
      "        - sepal width in cm\n",
      "        - petal length in cm\n",
      "        - petal width in cm\n",
      "        - class:\n",
      "                - Iris-Setosa\n",
      "                - Iris-Versicolour\n",
      "                - Iris-Virginica\n",
      "                \n",
      "    :Summary Statistics:\n",
      "\n",
      "    ============== ==== ==== ======= ===== ====================\n",
      "                    Min  Max   Mean    SD   Class Correlation\n",
      "    ============== ==== ==== ======= ===== ====================\n",
      "    sepal length:   4.3  7.9   5.84   0.83    0.7826\n",
      "    sepal width:    2.0  4.4   3.05   0.43   -0.4194\n",
      "    petal length:   1.0  6.9   3.76   1.76    0.9490  (high!)\n",
      "    petal width:    0.1  2.5   1.20   0.76    0.9565  (high!)\n",
      "    ============== ==== ==== ======= ===== ===========\n"
     ]
    }
   ],
   "source": [
    "print(iris.DESCR[:1000])"
   ]
  },
  {
   "cell_type": "markdown",
   "id": "c082cdd5",
   "metadata": {},
   "source": [
    "### Split dataset into train test\n"
   ]
  },
  {
   "cell_type": "code",
   "execution_count": 5,
   "id": "2f95d6e3",
   "metadata": {},
   "outputs": [],
   "source": [
    "test_size = 0.3\n",
    "X, y = iris.data, iris.target\n",
    "X_train, X_test, y_train, y_test = train_test_split(X,y, test_size=test_size, random_state=2)"
   ]
  },
  {
   "cell_type": "markdown",
   "id": "0bc7f08f",
   "metadata": {},
   "source": [
    "### Training"
   ]
  },
  {
   "cell_type": "code",
   "execution_count": 6,
   "id": "24d219b3",
   "metadata": {},
   "outputs": [],
   "source": [
    "clf = tree.DecisionTreeClassifier(max_depth=3, random_state=2)\n",
    "clf = clf.fit(X_train, y_train)"
   ]
  },
  {
   "cell_type": "code",
   "execution_count": 7,
   "id": "588fc592",
   "metadata": {},
   "outputs": [],
   "source": [
    "pred = clf.predict(X_test)"
   ]
  },
  {
   "cell_type": "code",
   "execution_count": null,
   "id": "1924ccb6",
   "metadata": {},
   "outputs": [],
   "source": [
    "# prediction on test set \n",
    "accuracy = round((pred == y_test).sum()/len(y_test), 2)\n",
    "print(f\"Accuracy Tree model is of {accuracy}, N_test={len(y_test)}\")"
   ]
  },
  {
   "cell_type": "code",
   "execution_count": 9,
   "id": "46a329d3",
   "metadata": {},
   "outputs": [],
   "source": [
    "from sklearn.metrics import confusion_matrix"
   ]
  },
  {
   "cell_type": "code",
   "execution_count": null,
   "id": "8e4071fd",
   "metadata": {},
   "outputs": [],
   "source": [
    "cm = confusion_matrix(y_test, pred)\n",
    "print(\"Confusion matrix \\n\", cm)"
   ]
  },
  {
   "cell_type": "markdown",
   "id": "36a35a33",
   "metadata": {},
   "source": [
    "### Plot rules of decision tree"
   ]
  },
  {
   "cell_type": "code",
   "execution_count": null,
   "id": "58724422",
   "metadata": {},
   "outputs": [],
   "source": [
    "print(tree.export_text(clf, feature_names=iris['feature_names']))"
   ]
  },
  {
   "cell_type": "markdown",
   "id": "9ebf2f11",
   "metadata": {},
   "source": [
    "### Plot the tree"
   ]
  },
  {
   "cell_type": "code",
   "execution_count": null,
   "id": "502ff110",
   "metadata": {},
   "outputs": [],
   "source": [
    "plt.figure(figsize=(16,9))\n",
    "tree.plot_tree(clf, feature_names=iris['feature_names'], class_names=iris[\"target_names\"])\n",
    "plt.show()"
   ]
  },
  {
   "cell_type": "markdown",
   "id": "f2c20fb9",
   "metadata": {},
   "source": [
    "### Questions \n",
    "1. Is my decision tree suited for the task ?\n",
    "    - TODO\n",
    "2. Can I explore the reasons behind a prediciton ?\n",
    "    - TODO\n",
    "3. How would you rank the 4 features in terms of importance to predict the iris category ?\n",
    "    - TODO\n"
   ]
  },
  {
   "cell_type": "markdown",
   "id": "b46cd3ca",
   "metadata": {},
   "source": [
    "### Conclusion"
   ]
  },
  {
   "cell_type": "markdown",
   "id": "4c428be2",
   "metadata": {},
   "source": [
    "- With simple methods in scikit learn, you can inspect the inside of tree and understand which are the rules that lead to what decisions."
   ]
  },
  {
   "cell_type": "markdown",
   "id": "7fc8b49f",
   "metadata": {},
   "source": [
    "#### What do my predictions look like with a basic tree "
   ]
  },
  {
   "cell_type": "code",
   "execution_count": null,
   "id": "7ea75c60",
   "metadata": {},
   "outputs": [],
   "source": [
    "pred # N=45"
   ]
  },
  {
   "cell_type": "markdown",
   "id": "8905248c",
   "metadata": {},
   "source": [
    "# Rule based algorithm"
   ]
  },
  {
   "cell_type": "markdown",
   "id": "bc35d89f",
   "metadata": {},
   "source": [
    "Rule based algorithm can be created in 2 ways. \n",
    "- either you have some knowledge and intuition about the rules (either by common sense or Suject matter expert guidance). example: Fraud detection, offensive language detection\n",
    "- you don't know anything about the rules"
   ]
  },
  {
   "cell_type": "markdown",
   "id": "8557e23a",
   "metadata": {},
   "source": [
    "### Create rules from knowledge and expertise (TBD)"
   ]
  },
  {
   "cell_type": "markdown",
   "id": "613e8ef8",
   "metadata": {},
   "source": [
    "(Assumptions: Rules are made by an unbiased expert)\n",
    "- Can serve as a baseline algorithm\n",
    "- Are 100% explainable "
   ]
  },
  {
   "cell_type": "markdown",
   "id": "43dcbf1a",
   "metadata": {},
   "source": [
    "----"
   ]
  },
  {
   "cell_type": "markdown",
   "id": "8c2c85ce",
   "metadata": {},
   "source": [
    "### Derive some rules from a ML model (Tree)"
   ]
  },
  {
   "cell_type": "markdown",
   "id": "7a84193a",
   "metadata": {},
   "source": [
    "Reasons to do this: \n",
    "- I have no prior knowledge of the relationship between sepal and petal length and iris type.  \n",
    "    - But I would like to provide some explanations (be it right or wrong) on top of the prediction\n",
    "- I must come up with a solution in production without a machine learning model\n",
    "\n"
   ]
  },
  {
   "cell_type": "code",
   "execution_count": 20,
   "id": "c55c1080",
   "metadata": {},
   "outputs": [],
   "source": [
    "def rule_based_iris_classifier(petal_width, petal_length):\n",
    "    \"\"\"\n",
    "    param: \n",
    "        - petal_width: float\n",
    "        - petal_lenght: float\n",
    "    return:\n",
    "        - class of iris (0, 1 or 2)\n",
    "        - explanation (small text that explains why this choice was made)\n",
    "    \"\"\"\n",
    "\n",
    "    # TODO\n",
    "    \n",
    "    return "
   ]
  },
  {
   "cell_type": "markdown",
   "id": "8e8d0097",
   "metadata": {},
   "source": [
    "### Make predictions using the rule based algorithm"
   ]
  },
  {
   "cell_type": "code",
   "execution_count": 15,
   "id": "f2e625f5",
   "metadata": {},
   "outputs": [],
   "source": [
    "rulebased_pred = []\n",
    "explanations = []\n",
    "for petal_length, petal_width in X_test[:,2:]:\n",
    "    prediction, explanation = rule_based_iris_classifier(petal_width, petal_length)\n",
    "    rulebased_pred.append(prediction)\n",
    "    explanations.append(explanation)\n",
    "\n",
    "rulebased_pred = np.array(rulebased_pred)"
   ]
  },
  {
   "cell_type": "code",
   "execution_count": null,
   "id": "0f8986b8",
   "metadata": {},
   "outputs": [],
   "source": [
    "if np.array_equal(rulebased_pred, pred):\n",
    "    print(\"Rule based method behaves like the trained tree\")\n",
    "else:\n",
    "    print(\"Predictions from rule based and trained tree are different\")"
   ]
  },
  {
   "cell_type": "code",
   "execution_count": null,
   "id": "5e88767d",
   "metadata": {},
   "outputs": [],
   "source": [
    "# prediction on test set \n",
    "accuracy = round((rulebased_pred == y_test).sum()/len(y_test), 2)\n",
    "print(f\"Accuracy rule based model is of {accuracy}, N_test={len(y_test)}\")"
   ]
  },
  {
   "cell_type": "markdown",
   "id": "830eb437",
   "metadata": {},
   "source": [
    "#### rule based predictions  with explanations"
   ]
  },
  {
   "cell_type": "code",
   "execution_count": null,
   "id": "2517ac39",
   "metadata": {
    "scrolled": true
   },
   "outputs": [],
   "source": [
    "[(rulebased_pred[i], explanations[i]) for i in range(len(rulebased_pred))]"
   ]
  },
  {
   "cell_type": "markdown",
   "id": "8b806450",
   "metadata": {},
   "source": [
    "## Conclusion"
   ]
  },
  {
   "cell_type": "markdown",
   "id": "9c0031c2",
   "metadata": {},
   "source": [
    "- By looking at the rules of a tree, we can verify that the rules make sense, or learn more about the topic\n",
    "- Those rules can help us build a normal rule based algorithms "
   ]
  },
  {
   "cell_type": "code",
   "execution_count": null,
   "id": "98db3045",
   "metadata": {},
   "outputs": [],
   "source": []
  }
 ],
 "metadata": {
  "kernelspec": {
   "display_name": "Python [conda env:interpretability]",
   "language": "python",
   "name": "conda-env-interpretability-py"
  },
  "language_info": {
   "codemirror_mode": {
    "name": "ipython",
    "version": 3
   },
   "file_extension": ".py",
   "mimetype": "text/x-python",
   "name": "python",
   "nbconvert_exporter": "python",
   "pygments_lexer": "ipython3",
   "version": "3.9.7"
  },
  "toc": {
   "base_numbering": 1,
   "nav_menu": {},
   "number_sections": true,
   "sideBar": true,
   "skip_h1_title": false,
   "title_cell": "Table of Contents",
   "title_sidebar": "Contents",
   "toc_cell": false,
   "toc_position": {
    "height": "calc(100% - 180px)",
    "left": "10px",
    "top": "150px",
    "width": "291.073364px"
   },
   "toc_section_display": true,
   "toc_window_display": true
  }
 },
 "nbformat": 4,
 "nbformat_minor": 5
}

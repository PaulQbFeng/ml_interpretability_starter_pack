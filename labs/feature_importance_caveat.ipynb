{
 "cells": [
  {
   "cell_type": "markdown",
   "id": "6f669ab9",
   "metadata": {},
   "source": [
    "## Steps to do for google collab users"
   ]
  },
  {
   "cell_type": "code",
   "execution_count": 1,
   "id": "1075c6ab",
   "metadata": {},
   "outputs": [],
   "source": [
    "# nothing"
   ]
  },
  {
   "cell_type": "code",
   "execution_count": 17,
   "id": "a1332199",
   "metadata": {},
   "outputs": [],
   "source": [
    "import numpy as np\n",
    "import pandas as pd\n",
    "import matplotlib.pyplot as plt\n",
    "\n",
    "from sklearn import datasets, tree\n",
    "from sklearn.model_selection import train_test_split"
   ]
  },
  {
   "cell_type": "markdown",
   "id": "83eb9f15",
   "metadata": {},
   "source": [
    "## Load Iris Dataset"
   ]
  },
  {
   "cell_type": "code",
   "execution_count": 18,
   "id": "6916d7c5",
   "metadata": {},
   "outputs": [],
   "source": [
    "iris = datasets.load_iris()"
   ]
  },
  {
   "cell_type": "markdown",
   "id": "7e432522",
   "metadata": {},
   "source": [
    "## Decision Tree "
   ]
  },
  {
   "cell_type": "markdown",
   "id": "3a4b0840",
   "metadata": {},
   "source": [
    "#### Split dataset into train test"
   ]
  },
  {
   "cell_type": "code",
   "execution_count": 19,
   "id": "2a4e0d60",
   "metadata": {},
   "outputs": [],
   "source": [
    "test_size = 0.3\n",
    "X, y = iris.data, iris.target\n",
    "X_train, X_test, y_train, y_test = train_test_split(X,y, test_size=test_size, random_state=2)"
   ]
  },
  {
   "cell_type": "markdown",
   "id": "a84c2c29",
   "metadata": {},
   "source": [
    "#### Training"
   ]
  },
  {
   "cell_type": "code",
   "execution_count": 20,
   "id": "4fad559b",
   "metadata": {},
   "outputs": [],
   "source": [
    "clf = tree.DecisionTreeClassifier(max_depth=3, random_state=2)\n",
    "clf = clf.fit(X_train, y_train)"
   ]
  },
  {
   "cell_type": "code",
   "execution_count": 21,
   "id": "6a4e7f47",
   "metadata": {},
   "outputs": [],
   "source": [
    "pred = clf.predict(X_test)"
   ]
  },
  {
   "cell_type": "code",
   "execution_count": 22,
   "id": "ea22ffd3",
   "metadata": {},
   "outputs": [
    {
     "name": "stdout",
     "output_type": "stream",
     "text": [
      "Accuracy Tree model is of 0.98, N_test=45\n"
     ]
    }
   ],
   "source": [
    "# prediction on test set \n",
    "accuracy = round((pred == y_test).sum()/len(y_test), 2)\n",
    "print(f\"Accuracy Tree model is of {accuracy}, N_test={len(y_test)}\")"
   ]
  },
  {
   "cell_type": "code",
   "execution_count": 23,
   "id": "4aa87e12",
   "metadata": {},
   "outputs": [],
   "source": [
    "from sklearn.metrics import confusion_matrix"
   ]
  },
  {
   "cell_type": "code",
   "execution_count": 24,
   "id": "d3a0b84b",
   "metadata": {},
   "outputs": [
    {
     "name": "stdout",
     "output_type": "stream",
     "text": [
      "Confusion matrix \n",
      " [[17  0  0]\n",
      " [ 0 14  1]\n",
      " [ 0  0 13]]\n"
     ]
    }
   ],
   "source": [
    "cm = confusion_matrix(y_test, pred)\n",
    "print(\"Confusion matrix \\n\", cm)"
   ]
  },
  {
   "cell_type": "markdown",
   "id": "c12f85ef",
   "metadata": {},
   "source": [
    "## Feature importance of a decision Tree (tree_1)"
   ]
  },
  {
   "cell_type": "markdown",
   "id": "db4b5a78",
   "metadata": {},
   "source": [
    "Look at feature importance using the GINI importance value"
   ]
  },
  {
   "cell_type": "code",
   "execution_count": 25,
   "id": "0256c973",
   "metadata": {},
   "outputs": [],
   "source": [
    "importances = clf.feature_importances_ #GINI importance"
   ]
  },
  {
   "cell_type": "code",
   "execution_count": 26,
   "id": "7737c7bd",
   "metadata": {},
   "outputs": [
    {
     "data": {
      "image/png": "[encoded data removed]",
      "text/plain": [
       "<Figure size 432x288 with 1 Axes>"
      ]
     },
     "metadata": {
      "needs_background": "light"
     },
     "output_type": "display_data"
    }
   ],
   "source": [
    "importances = pd.Series(importances, index=iris['feature_names'])\n",
    "importances.sort_values(ascending=False, inplace=True)\n",
    "\n",
    "fig, ax = plt.subplots()\n",
    "importances.plot.bar(yerr=importances, ax=ax)\n",
    "ax.set_title(\"Feature importances using DI\")\n",
    "ax.set_ylabel(\"Decrease in impurity\")\n",
    "fig.tight_layout()"
   ]
  },
  {
   "cell_type": "markdown",
   "id": "4fd1a765",
   "metadata": {},
   "source": [
    "## Train a tree_2 with different parameters (TODO)"
   ]
  },
  {
   "cell_type": "code",
   "execution_count": 28,
   "id": "95c97dd3",
   "metadata": {},
   "outputs": [],
   "source": [
    "# Have a look at the feature importance for different parameters (max_depth ...) or even random_state\n",
    "# Check that the accuracy is as good as the first one \n",
    "# Write you thoughts "
   ]
  },
  {
   "cell_type": "markdown",
   "id": "34065d27",
   "metadata": {},
   "source": [
    "## Conclusion\n"
   ]
  }
 ],
 "metadata": {
  "kernelspec": {
   "display_name": "Python [conda env:interpretability]",
   "language": "python",
   "name": "conda-env-interpretability-py"
  },
  "language_info": {
   "codemirror_mode": {
    "name": "ipython",
    "version": 3
   },
   "file_extension": ".py",
   "mimetype": "text/x-python",
   "name": "python",
   "nbconvert_exporter": "python",
   "pygments_lexer": "ipython3",
   "version": "3.9.7"
  },
  "toc": {
   "base_numbering": 1,
   "nav_menu": {},
   "number_sections": true,
   "sideBar": true,
   "skip_h1_title": false,
   "title_cell": "Table of Contents",
   "title_sidebar": "Contents",
   "toc_cell": false,
   "toc_position": {
    "height": "calc(100% - 180px)",
    "left": "10px",
    "top": "150px",
    "width": "165px"
   },
   "toc_section_display": true,
   "toc_window_display": true
  }
 },
 "nbformat": 4,
 "nbformat_minor": 5
}

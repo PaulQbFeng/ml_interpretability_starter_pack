{
 "cells": [
  {
   "cell_type": "markdown",
   "metadata": {},
   "source": [
    "## Steps to do for google collab users"
   ]
  },
  {
   "cell_type": "code",
   "execution_count": null,
   "metadata": {},
   "outputs": [],
   "source": [
    "# nothing "
   ]
  },
  {
   "cell_type": "markdown",
   "metadata": {},
   "source": [
    "# Introduction"
   ]
  },
  {
   "cell_type": "markdown",
   "metadata": {},
   "source": [
    "Context: Train a linear regressor to predict the weight of a person based on their gender (m/f) and their height."
   ]
  },
  {
   "cell_type": "markdown",
   "metadata": {},
   "source": [
    "For our task fitting the linear regressor means getting the weight $w_0$, $w_1$, $w_2$ in the following formula $\\hat y = w_0 + w_1 * X_1 + w_2 * X_2$ with \n",
    "- $\\hat y$ the predicted weight\n",
    "- $X_1$ the binary value corresponding to the gender\n",
    "- $X_2$ the height in cm"
   ]
  },
  {
   "cell_type": "markdown",
   "metadata": {},
   "source": [
    "## Goal\n",
    "- Understand why the linear regressor is an interpretable model"
   ]
  },
  {
   "cell_type": "code",
   "execution_count": 35,
   "metadata": {},
   "outputs": [],
   "source": [
    "import numpy as np\n",
    "import pandas as pd\n",
    "import matplotlib.pyplot as plt\n",
    "\n",
    "from sklearn import datasets, tree\n",
    "from sklearn.model_selection import train_test_split"
   ]
  },
  {
   "cell_type": "code",
   "execution_count": 36,
   "metadata": {},
   "outputs": [],
   "source": [
    "# Kaggle dataset (experiment purposes, might be not accurate depending on demography)\n",
    "\n",
    "# dataset_url = \"../dataset/weight-height.csv\" # in local\n",
    "dataset_url = \"https://raw.githubusercontent.com/PaulQbFeng/ml_interpretability_starter_pack/master/dataset/weight-height.csv\""
   ]
  },
  {
   "cell_type": "code",
   "execution_count": 37,
   "metadata": {},
   "outputs": [
    {
     "name": "stdout",
     "output_type": "stream",
     "text": [
      "(10000, 3)\n"
     ]
    },
    {
     "data": {
      "text/html": [
       "<div>\n",
       "<style scoped>\n",
       "    .dataframe tbody tr th:only-of-type {\n",
       "        vertical-align: middle;\n",
       "    }\n",
       "\n",
       "    .dataframe tbody tr th {\n",
       "        vertical-align: top;\n",
       "    }\n",
       "\n",
       "    .dataframe thead th {\n",
       "        text-align: right;\n",
       "    }\n",
       "</style>\n",
       "<table border=\"1\" class=\"dataframe\">\n",
       "  <thead>\n",
       "    <tr style=\"text-align: right;\">\n",
       "      <th></th>\n",
       "      <th>Gender</th>\n",
       "      <th>Height</th>\n",
       "      <th>Weight</th>\n",
       "    </tr>\n",
       "  </thead>\n",
       "  <tbody>\n",
       "    <tr>\n",
       "      <th>3959</th>\n",
       "      <td>Male</td>\n",
       "      <td>68.866302</td>\n",
       "      <td>190.385361</td>\n",
       "    </tr>\n",
       "    <tr>\n",
       "      <th>7417</th>\n",
       "      <td>Female</td>\n",
       "      <td>61.017988</td>\n",
       "      <td>120.139649</td>\n",
       "    </tr>\n",
       "    <tr>\n",
       "      <th>7777</th>\n",
       "      <td>Female</td>\n",
       "      <td>61.079452</td>\n",
       "      <td>124.802926</td>\n",
       "    </tr>\n",
       "    <tr>\n",
       "      <th>9844</th>\n",
       "      <td>Female</td>\n",
       "      <td>64.893463</td>\n",
       "      <td>133.854826</td>\n",
       "    </tr>\n",
       "    <tr>\n",
       "      <th>4303</th>\n",
       "      <td>Male</td>\n",
       "      <td>66.927669</td>\n",
       "      <td>169.535121</td>\n",
       "    </tr>\n",
       "  </tbody>\n",
       "</table>\n",
       "</div>"
      ],
      "text/plain": [
       "      Gender     Height      Weight\n",
       "3959    Male  68.866302  190.385361\n",
       "7417  Female  61.017988  120.139649\n",
       "7777  Female  61.079452  124.802926\n",
       "9844  Female  64.893463  133.854826\n",
       "4303    Male  66.927669  169.535121"
      ]
     },
     "execution_count": 37,
     "metadata": {},
     "output_type": "execute_result"
    }
   ],
   "source": [
    "raw_df = pd.read_csv(dataset_url)\n",
    "print(raw_df.shape)\n",
    "raw_df.sample(5)"
   ]
  },
  {
   "cell_type": "markdown",
   "metadata": {},
   "source": [
    "## Preprocessing "
   ]
  },
  {
   "cell_type": "markdown",
   "metadata": {},
   "source": [
    "- have columns in lowercase \n",
    "- convert height in inches to cm\n",
    "- convert weight in pound to kg\n",
    "- Treat gender column as a binary column named is_female with value 1 if female, 0 if male"
   ]
  },
  {
   "cell_type": "code",
   "execution_count": 38,
   "metadata": {},
   "outputs": [],
   "source": [
    "INCH_TO_CM = 2.54\n",
    "POUND_TO_KG = 0.45359237\n",
    "\n",
    "df = pd.DataFrame()\n",
    "df[\"is_female\"] = (raw_df.Gender == \"Female\").astype(int)\n",
    "df[\"height\"] = raw_df.Height * INCH_TO_CM\n",
    "df[\"weight\"] = raw_df.Weight * POUND_TO_KG"
   ]
  },
  {
   "cell_type": "code",
   "execution_count": 39,
   "metadata": {},
   "outputs": [
    {
     "data": {
      "text/html": [
       "<div>\n",
       "<style scoped>\n",
       "    .dataframe tbody tr th:only-of-type {\n",
       "        vertical-align: middle;\n",
       "    }\n",
       "\n",
       "    .dataframe tbody tr th {\n",
       "        vertical-align: top;\n",
       "    }\n",
       "\n",
       "    .dataframe thead th {\n",
       "        text-align: right;\n",
       "    }\n",
       "</style>\n",
       "<table border=\"1\" class=\"dataframe\">\n",
       "  <thead>\n",
       "    <tr style=\"text-align: right;\">\n",
       "      <th></th>\n",
       "      <th>is_female</th>\n",
       "      <th>height</th>\n",
       "      <th>weight</th>\n",
       "    </tr>\n",
       "  </thead>\n",
       "  <tbody>\n",
       "    <tr>\n",
       "      <th>7261</th>\n",
       "      <td>1</td>\n",
       "      <td>162.891066</td>\n",
       "      <td>55.017396</td>\n",
       "    </tr>\n",
       "    <tr>\n",
       "      <th>4802</th>\n",
       "      <td>0</td>\n",
       "      <td>170.781925</td>\n",
       "      <td>79.790821</td>\n",
       "    </tr>\n",
       "    <tr>\n",
       "      <th>4014</th>\n",
       "      <td>0</td>\n",
       "      <td>177.923615</td>\n",
       "      <td>92.886418</td>\n",
       "    </tr>\n",
       "    <tr>\n",
       "      <th>4860</th>\n",
       "      <td>0</td>\n",
       "      <td>165.333580</td>\n",
       "      <td>72.788301</td>\n",
       "    </tr>\n",
       "    <tr>\n",
       "      <th>2770</th>\n",
       "      <td>0</td>\n",
       "      <td>176.225969</td>\n",
       "      <td>88.336898</td>\n",
       "    </tr>\n",
       "  </tbody>\n",
       "</table>\n",
       "</div>"
      ],
      "text/plain": [
       "      is_female      height     weight\n",
       "7261          1  162.891066  55.017396\n",
       "4802          0  170.781925  79.790821\n",
       "4014          0  177.923615  92.886418\n",
       "4860          0  165.333580  72.788301\n",
       "2770          0  176.225969  88.336898"
      ]
     },
     "execution_count": 39,
     "metadata": {},
     "output_type": "execute_result"
    }
   ],
   "source": [
    "df.sample(5)"
   ]
  },
  {
   "cell_type": "markdown",
   "metadata": {},
   "source": [
    "## Create train and test set"
   ]
  },
  {
   "cell_type": "code",
   "execution_count": null,
   "metadata": {},
   "outputs": [],
   "source": [
    "feature_cols = [\"is_female\", \"height\"]\n",
    "pred_col = [\"weight\"]\n",
    "\n",
    "X = df[feature_cols]\n",
    "y = df[pred_col]"
   ]
  },
  {
   "cell_type": "code",
   "execution_count": null,
   "metadata": {},
   "outputs": [],
   "source": [
    "test_size = 0.3\n",
    "X_train, X_test, y_train, y_test = train_test_split(X, y, test_size=test_size, random_state=2)"
   ]
  },
  {
   "cell_type": "markdown",
   "metadata": {},
   "source": [
    "## Train linear regressor"
   ]
  },
  {
   "cell_type": "code",
   "execution_count": null,
   "metadata": {},
   "outputs": [],
   "source": [
    "from sklearn.linear_model import LinearRegression\n",
    "lin_reg = LinearRegression()\n",
    "lin_reg.fit(X_train, y_train)"
   ]
  },
  {
   "cell_type": "markdown",
   "metadata": {},
   "source": [
    "#### Get the weights of the model (TODO)"
   ]
  },
  {
   "cell_type": "code",
   "execution_count": null,
   "metadata": {},
   "outputs": [],
   "source": [
    "w0 = \n",
    "w1, w2 = "
   ]
  },
  {
   "cell_type": "markdown",
   "metadata": {},
   "source": [
    "## Visualize the test set + prediction"
   ]
  },
  {
   "cell_type": "markdown",
   "metadata": {},
   "source": [
    "### Split test set into male / female to plot it in 2D"
   ]
  },
  {
   "cell_type": "code",
   "execution_count": null,
   "metadata": {},
   "outputs": [],
   "source": [
    "# test set\n",
    "X_test_female = X_test.loc[X_test.is_female == 1][\"height\"]\n",
    "y_test_female = y_test.loc[X_test_female.index][\"weight\"]\n",
    "\n",
    "X_test_male = X_test.loc[X_test.is_female == 0][\"height\"]\n",
    "y_test_male = y_test.loc[X_test_male.index][\"weight\"]"
   ]
  },
  {
   "cell_type": "code",
   "execution_count": null,
   "metadata": {},
   "outputs": [],
   "source": [
    "# predictions\n",
    "heights_boundary = np.array([140, 210]) # only need 2 points to plot a line\n",
    "y_pred_male = w0 + w1 * 0 + w2 * heights_boundary\n",
    "y_pred_female = w0 + w1 * 1 + w2 * heights_boundary"
   ]
  },
  {
   "cell_type": "markdown",
   "metadata": {},
   "source": [
    "### Plot"
   ]
  },
  {
   "cell_type": "code",
   "execution_count": null,
   "metadata": {},
   "outputs": [],
   "source": [
    "LABEL_FONT_SIZE = 20\n",
    "DOT_SIZE = 15\n",
    "LINE_WIDTH = 3\n",
    "\n",
    "plt.figure(figsize=(14,10))\n",
    "\n",
    "plt.title(\"Weight and Height distribution with their predictions for the test set\", size=LABEL_FONT_SIZE)\n",
    "plt.xlabel(\"Height (cm)\", size=LABEL_FONT_SIZE)\n",
    "plt.ylabel(\"Weight (kg)\", size=LABEL_FONT_SIZE)\n",
    "\n",
    "plt.scatter(X_test_male, y_test_male.values, color='sandybrown', label=\"male\", s=DOT_SIZE)\n",
    "plt.scatter(X_test_female, y_test_female.values, color='cornflowerblue', label=\"female\", s=DOT_SIZE)\n",
    "\n",
    "plt.plot(heights_boundary, y_pred_female, color='red', label=\"female prediction\", linewidth=LINE_WIDTH) \n",
    "plt.plot(heights_boundary, y_pred_male, color='green', label=\"male prediction\", linewidth=LINE_WIDTH) \n",
    "\n",
    "# # for fun (optional)\n",
    "# my_height = 190 # cm\n",
    "# my_weight = 84 # kg\n",
    "# plt.plot(my_height, my_weight, color=\"magenta\", marker=\"D\", label=\"my weight\")\n",
    "\n",
    "plt.legend(prop={\"size\": 15})\n",
    "plt.grid(True)\n",
    "plt.show()"
   ]
  },
  {
   "cell_type": "markdown",
   "metadata": {},
   "source": [
    "## Questions \n",
    "\n",
    "1. Is my linear regressor suited for this task ? \n",
    "    - TODO\n",
    "2. In general, taller people are on average heavier. Does my model reflect this behaviour ?\n",
    "    - TODO\n",
    "3. More precisely, according to this model and dataset, if someone grows 2 cm, do I know with a certain accuracy what would be the new predicted value ?\n",
    "    - TODO\n",
    "4. In general, men are heavier than women at the same height. Does my model reflect this behaviour ?\n",
    "    - TODO\n",
    "5. More precisely, according to this model and dataset, do I know what would be the numerical difference between the weight of a man and a woman at the same height ?\n",
    "    - TODO"
   ]
  },
  {
   "cell_type": "markdown",
   "metadata": {},
   "source": [
    "# Conclusion\n",
    "\n"
   ]
  }
 ],
 "metadata": {
  "kernelspec": {
   "display_name": "Python [conda env:interpretability]",
   "language": "python",
   "name": "conda-env-interpretability-py"
  },
  "language_info": {
   "codemirror_mode": {
    "name": "ipython",
    "version": 3
   },
   "file_extension": ".py",
   "mimetype": "text/x-python",
   "name": "python",
   "nbconvert_exporter": "python",
   "pygments_lexer": "ipython3",
   "version": "3.9.7"
  },
  "toc": {
   "base_numbering": 1,
   "nav_menu": {},
   "number_sections": true,
   "sideBar": true,
   "skip_h1_title": false,
   "title_cell": "Table of Contents",
   "title_sidebar": "Contents",
   "toc_cell": false,
   "toc_position": {
    "height": "calc(100% - 180px)",
    "left": "10px",
    "top": "150px",
    "width": "165px"
   },
   "toc_section_display": true,
   "toc_window_display": true
  }
 },
 "nbformat": 4,
 "nbformat_minor": 4
}
